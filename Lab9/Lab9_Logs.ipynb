{
 "cells": [
  {
   "cell_type": "code",
   "execution_count": 1,
   "metadata": {
    "collapsed": true
   },
   "outputs": [],
   "source": [
    "%matplotlib inline\n",
    "import numpy as np\n",
    "import matplotlib.pyplot as plt\n",
    "import datetime\n",
    "import re\n",
    "from email import utils"
   ]
  },
  {
   "cell_type": "markdown",
   "metadata": {},
   "source": [
    "1) Log file is loaded"
   ]
  },
  {
   "cell_type": "code",
   "execution_count": 61,
   "metadata": {},
   "outputs": [
    {
     "output_type": "stream",
     "name": "stdout",
     "text": [
      "156.15.13.173 [01/Jan/2018:11:13:49 +0100] \"GET AddProduct.html HTTP/1.0\" 200 2356\n176.247.135.49 [01/Jan/2018:11:18:07 +0100] \"GET Shop.html HTTP/1.0\" 200 7466\n176.247.135.49 [01/Jan/2018:11:19:05 +0100] \"GET AddProduct.html HTTP/1.0\" 200 2356\n"
     ]
    }
   ],
   "source": [
    "file = open(\"log.txt\", \"r\") \n",
    "lines = file.readlines()\n",
    "for l in range(3): print(lines[l][:-1])"
   ]
  },
  {
   "cell_type": "markdown",
   "metadata": {},
   "source": [
    "2) Cass \"Request\" parses and keeps data of a single requests. Complete the TODO, where a given \"line\" (string) should be parsed in order to dervie the ip of the host making the request, time of the request (in seconds), and target page (name)."
   ]
  },
  {
   "cell_type": "code",
   "execution_count": 72,
   "metadata": {
    "collapsed": true
   },
   "outputs": [],
   "source": [
    "\n",
    "class Request:\n",
    "    def __init__(self, log):\n",
    "        # TODO DO PARSING HERE\n",
    "        for log_part in log.split():\n",
    "            try:\n",
    "                ip = re.findall(r'(?:\\d{1,3}\\.){3}\\d{1,3}', log_part)\n",
    "            except ValueError:\n",
    "                pass\n",
    "            else:\n",
    "                self.ip = ip[0]\n",
    "                break\n",
    "\n",
    "        for log_part in log.split():\n",
    "            if log_part[0] == '[':\n",
    "                hours = int(log_part.split(':')[1])*3600\n",
    "                minutes = int(log_part.split(':')[2])*60\n",
    "                self.time = int(log_part.split(':')[3]) + minutes + hours\n",
    "            elif log_part.endswith('.html'):\n",
    "                self.page = log_part\n",
    "\n",
    "        # convert hours + minutes + seconds -> total number of seconds\n",
    "        \n",
    "    def __repr__(self):\n",
    "        return self.ip + \"     \" +  str(datetime.timedelta(seconds=self.time)) + \" -> \" + self.page"
   ]
  },
  {
   "cell_type": "markdown",
   "metadata": {},
   "source": [
    "3) Each line of log.txt is parsed and the Request objects are added to the list"
   ]
  },
  {
   "cell_type": "code",
   "execution_count": 196,
   "metadata": {
    "tags": []
   },
   "outputs": [
    {
     "output_type": "stream",
     "name": "stdout",
     "text": [
      "156.15.13.173     11:13:49 -> AddProduct.html\n176.247.135.49     11:18:07 -> Shop.html\n176.247.135.49     11:19:05 -> AddProduct.html\n176.247.135.49     11:29:05 -> Summary.html\n69.84.30.199     11:43:59 -> Shop.html\n69.84.30.199     11:45:16 -> AddProduct.html\n57.116.45.120     11:46:45 -> AddProduct.html\n69.84.30.199     11:50:36 -> Summary.html\n69.84.30.199     11:52:38 -> Payment.html\n26.19.183.202     11:53:11 -> AddProduct.html\n"
     ]
    }
   ],
   "source": [
    "reqs = [Request(line) for line in lines]\n",
    "for l in range(10): \n",
    "    print(reqs[l]) "
   ]
  },
  {
   "cell_type": "markdown",
   "metadata": {},
   "source": [
    "# Exercise"
   ]
  },
  {
   "cell_type": "markdown",
   "metadata": {},
   "source": [
    "Your task is to analyze the log file. You should indentify the users and sessions. Then, compute the following: <br>\n",
    "3.1) the number of sessions (should be 1000 :) ), <br>\n",
    "3.2) the number of users, <br>\n",
    "3.3) the average number of sessions per one user <br>\n",
    "3.4) use the distribution plot to visualize the sessions' lengths (minutes);  <br>\n",
    "3.5) use the distribution plot to visualize the sessions' lengths (the number of requests) <br>\n",
    "3.6) use the distribution plot to visualize sessions' starting times (hours). <br>\n",
    "3.7) which web page is the most common entry point?; for each page plot the number of times it has been an entry page,  <br>\n",
    "3.8) which web page is the most common departure point?; for each page plot the number of times the user stopped a session while being on this page, <br>\n",
    "3.9) for each page plot the average time the user stayed on this page <br>\n",
    "3.10) print the fist 10 sessions (paths). <br>\n",
    "\n",
    "You may find the following classes helpful and data."
   ]
  },
  {
   "cell_type": "code",
   "execution_count": 260,
   "metadata": {
    "collapsed": true,
    "tags": []
   },
   "outputs": [
    {
     "output_type": "stream",
     "name": "stdout",
     "text": [
      "3.1) The number of sessions: 1000\n3.2) The number of users: 391\n3.3) The average number of sessions per one user: 2.56\n"
     ]
    },
    {
     "output_type": "execute_result",
     "data": {
      "text/plain": [
       "[]"
      ]
     },
     "metadata": {},
     "execution_count": 260
    },
    {
     "output_type": "display_data",
     "data": {
      "text/plain": "<Figure size 432x288 with 1 Axes>",
      "image/svg+xml": "<?xml version=\"1.0\" encoding=\"utf-8\" standalone=\"no\"?>\n<!DOCTYPE svg PUBLIC \"-//W3C//DTD SVG 1.1//EN\"\n  \"http://www.w3.org/Graphics/SVG/1.1/DTD/svg11.dtd\">\n<!-- Created with matplotlib (https://matplotlib.org/) -->\n<svg height=\"248.518125pt\" version=\"1.1\" viewBox=\"0 0 378.465625 248.518125\" width=\"378.465625pt\" xmlns=\"http://www.w3.org/2000/svg\" xmlns:xlink=\"http://www.w3.org/1999/xlink\">\n <metadata>\n  <rdf:RDF xmlns:cc=\"http://creativecommons.org/ns#\" xmlns:dc=\"http://purl.org/dc/elements/1.1/\" xmlns:rdf=\"http://www.w3.org/1999/02/22-rdf-syntax-ns#\">\n   <cc:Work>\n    <dc:type rdf:resource=\"http://purl.org/dc/dcmitype/StillImage\"/>\n    <dc:date>2021-04-29T18:45:40.312661</dc:date>\n    <dc:format>image/svg+xml</dc:format>\n    <dc:creator>\n     <cc:Agent>\n      <dc:title>Matplotlib v3.3.3, https://matplotlib.org/</dc:title>\n     </cc:Agent>\n    </dc:creator>\n   </cc:Work>\n  </rdf:RDF>\n </metadata>\n <defs>\n  <style type=\"text/css\">*{stroke-linecap:butt;stroke-linejoin:round;}</style>\n </defs>\n <g id=\"figure_1\">\n  <g id=\"patch_1\">\n   <path d=\"M 0 248.518125 \nL 378.465625 248.518125 \nL 378.465625 0 \nL 0 0 \nz\n\" style=\"fill:none;\"/>\n  </g>\n  <g id=\"axes_1\">\n   <g id=\"patch_2\">\n    <path d=\"M 36.465625 224.64 \nL 371.265625 224.64 \nL 371.265625 7.2 \nL 36.465625 7.2 \nz\n\" style=\"fill:#ffffff;\"/>\n   </g>\n   <g id=\"patch_3\">\n    <path clip-path=\"url(#pd77a8b1bee)\" d=\"M 51.683807 224.64 \nL 57.77108 224.64 \nL 57.77108 17.554286 \nL 51.683807 17.554286 \nz\n\" style=\"fill:#1f77b4;opacity:0.5;\"/>\n   </g>\n   <g id=\"patch_4\">\n    <path clip-path=\"url(#pd77a8b1bee)\" d=\"M 57.77108 224.64 \nL 63.858352 224.64 \nL 63.858352 67.834356 \nL 57.77108 67.834356 \nz\n\" style=\"fill:#1f77b4;opacity:0.5;\"/>\n   </g>\n   <g id=\"patch_5\">\n    <path clip-path=\"url(#pd77a8b1bee)\" d=\"M 63.858352 224.64 \nL 69.945625 224.64 \nL 69.945625 224.64 \nL 63.858352 224.64 \nz\n\" style=\"fill:#1f77b4;opacity:0.5;\"/>\n   </g>\n   <g id=\"patch_6\">\n    <path clip-path=\"url(#pd77a8b1bee)\" d=\"M 69.945625 224.64 \nL 76.032898 224.64 \nL 76.032898 224.64 \nL 69.945625 224.64 \nz\n\" style=\"fill:#1f77b4;opacity:0.5;\"/>\n   </g>\n   <g id=\"patch_7\">\n    <path clip-path=\"url(#pd77a8b1bee)\" d=\"M 76.032898 224.64 \nL 82.12017 224.64 \nL 82.12017 224.64 \nL 76.032898 224.64 \nz\n\" style=\"fill:#1f77b4;opacity:0.5;\"/>\n   </g>\n   <g id=\"patch_8\">\n    <path clip-path=\"url(#pd77a8b1bee)\" d=\"M 82.12017 224.64 \nL 88.207443 224.64 \nL 88.207443 219.526772 \nL 82.12017 219.526772 \nz\n\" style=\"fill:#1f77b4;opacity:0.5;\"/>\n   </g>\n   <g id=\"patch_9\">\n    <path clip-path=\"url(#pd77a8b1bee)\" d=\"M 88.207443 224.64 \nL 94.294716 224.64 \nL 94.294716 205.891499 \nL 88.207443 205.891499 \nz\n\" style=\"fill:#1f77b4;opacity:0.5;\"/>\n   </g>\n   <g id=\"patch_10\">\n    <path clip-path=\"url(#pd77a8b1bee)\" d=\"M 94.294716 224.64 \nL 100.381989 224.64 \nL 100.381989 156.463633 \nL 94.294716 156.463633 \nz\n\" style=\"fill:#1f77b4;opacity:0.5;\"/>\n   </g>\n   <g id=\"patch_11\">\n    <path clip-path=\"url(#pd77a8b1bee)\" d=\"M 100.381989 224.64 \nL 106.469261 224.64 \nL 106.469261 137.715132 \nL 100.381989 137.715132 \nz\n\" style=\"fill:#1f77b4;opacity:0.5;\"/>\n   </g>\n   <g id=\"patch_12\">\n    <path clip-path=\"url(#pd77a8b1bee)\" d=\"M 106.469261 224.64 \nL 112.556534 224.64 \nL 112.556534 161.576861 \nL 106.469261 161.576861 \nz\n\" style=\"fill:#1f77b4;opacity:0.5;\"/>\n   </g>\n   <g id=\"patch_13\">\n    <path clip-path=\"url(#pd77a8b1bee)\" d=\"M 112.556534 224.64 \nL 118.643807 224.64 \nL 118.643807 156.463633 \nL 112.556534 156.463633 \nz\n\" style=\"fill:#1f77b4;opacity:0.5;\"/>\n   </g>\n   <g id=\"patch_14\">\n    <path clip-path=\"url(#pd77a8b1bee)\" d=\"M 118.643807 224.64 \nL 124.73108 224.64 \nL 124.73108 159.020247 \nL 118.643807 159.020247 \nz\n\" style=\"fill:#1f77b4;opacity:0.5;\"/>\n   </g>\n   <g id=\"patch_15\">\n    <path clip-path=\"url(#pd77a8b1bee)\" d=\"M 124.73108 224.64 \nL 130.818352 224.64 \nL 130.818352 182.881975 \nL 124.73108 182.881975 \nz\n\" style=\"fill:#1f77b4;opacity:0.5;\"/>\n   </g>\n   <g id=\"patch_16\">\n    <path clip-path=\"url(#pd77a8b1bee)\" d=\"M 130.818352 224.64 \nL 136.905625 224.64 \nL 136.905625 210.152522 \nL 130.818352 210.152522 \nz\n\" style=\"fill:#1f77b4;opacity:0.5;\"/>\n   </g>\n   <g id=\"patch_17\">\n    <path clip-path=\"url(#pd77a8b1bee)\" d=\"M 136.905625 224.64 \nL 142.992898 224.64 \nL 142.992898 217.822363 \nL 136.905625 217.822363 \nz\n\" style=\"fill:#1f77b4;opacity:0.5;\"/>\n   </g>\n   <g id=\"patch_18\">\n    <path clip-path=\"url(#pd77a8b1bee)\" d=\"M 142.992898 224.64 \nL 149.08017 224.64 \nL 149.08017 217.822363 \nL 142.992898 217.822363 \nz\n\" style=\"fill:#1f77b4;opacity:0.5;\"/>\n   </g>\n   <g id=\"patch_19\">\n    <path clip-path=\"url(#pd77a8b1bee)\" d=\"M 149.08017 224.64 \nL 155.167443 224.64 \nL 155.167443 216.970159 \nL 149.08017 216.970159 \nz\n\" style=\"fill:#1f77b4;opacity:0.5;\"/>\n   </g>\n   <g id=\"patch_20\">\n    <path clip-path=\"url(#pd77a8b1bee)\" d=\"M 155.167443 224.64 \nL 161.254716 224.64 \nL 161.254716 216.970159 \nL 155.167443 216.970159 \nz\n\" style=\"fill:#1f77b4;opacity:0.5;\"/>\n   </g>\n   <g id=\"patch_21\">\n    <path clip-path=\"url(#pd77a8b1bee)\" d=\"M 161.254716 224.64 \nL 167.341989 224.64 \nL 167.341989 219.526772 \nL 161.254716 219.526772 \nz\n\" style=\"fill:#1f77b4;opacity:0.5;\"/>\n   </g>\n   <g id=\"patch_22\">\n    <path clip-path=\"url(#pd77a8b1bee)\" d=\"M 167.341989 224.64 \nL 173.429261 224.64 \nL 173.429261 219.526772 \nL 167.341989 219.526772 \nz\n\" style=\"fill:#1f77b4;opacity:0.5;\"/>\n   </g>\n   <g id=\"patch_23\">\n    <path clip-path=\"url(#pd77a8b1bee)\" d=\"M 173.429261 224.64 \nL 179.516534 224.64 \nL 179.516534 220.378977 \nL 173.429261 220.378977 \nz\n\" style=\"fill:#1f77b4;opacity:0.5;\"/>\n   </g>\n   <g id=\"patch_24\">\n    <path clip-path=\"url(#pd77a8b1bee)\" d=\"M 179.516534 224.64 \nL 185.603807 224.64 \nL 185.603807 220.378977 \nL 179.516534 220.378977 \nz\n\" style=\"fill:#1f77b4;opacity:0.5;\"/>\n   </g>\n   <g id=\"patch_25\">\n    <path clip-path=\"url(#pd77a8b1bee)\" d=\"M 185.603807 224.64 \nL 191.69108 224.64 \nL 191.69108 222.935591 \nL 185.603807 222.935591 \nz\n\" style=\"fill:#1f77b4;opacity:0.5;\"/>\n   </g>\n   <g id=\"patch_26\">\n    <path clip-path=\"url(#pd77a8b1bee)\" d=\"M 191.69108 224.64 \nL 197.778352 224.64 \nL 197.778352 222.935591 \nL 191.69108 222.935591 \nz\n\" style=\"fill:#1f77b4;opacity:0.5;\"/>\n   </g>\n   <g id=\"patch_27\">\n    <path clip-path=\"url(#pd77a8b1bee)\" d=\"M 197.778352 224.64 \nL 203.865625 224.64 \nL 203.865625 224.64 \nL 197.778352 224.64 \nz\n\" style=\"fill:#1f77b4;opacity:0.5;\"/>\n   </g>\n   <g id=\"patch_28\">\n    <path clip-path=\"url(#pd77a8b1bee)\" d=\"M 203.865625 224.64 \nL 209.952898 224.64 \nL 209.952898 223.787795 \nL 203.865625 223.787795 \nz\n\" style=\"fill:#1f77b4;opacity:0.5;\"/>\n   </g>\n   <g id=\"patch_29\">\n    <path clip-path=\"url(#pd77a8b1bee)\" d=\"M 209.952898 224.64 \nL 216.04017 224.64 \nL 216.04017 224.64 \nL 209.952898 224.64 \nz\n\" style=\"fill:#1f77b4;opacity:0.5;\"/>\n   </g>\n   <g id=\"patch_30\">\n    <path clip-path=\"url(#pd77a8b1bee)\" d=\"M 216.04017 224.64 \nL 222.127443 224.64 \nL 222.127443 223.787795 \nL 216.04017 223.787795 \nz\n\" style=\"fill:#1f77b4;opacity:0.5;\"/>\n   </g>\n   <g id=\"patch_31\">\n    <path clip-path=\"url(#pd77a8b1bee)\" d=\"M 222.127443 224.64 \nL 228.214716 224.64 \nL 228.214716 224.64 \nL 222.127443 224.64 \nz\n\" style=\"fill:#1f77b4;opacity:0.5;\"/>\n   </g>\n   <g id=\"patch_32\">\n    <path clip-path=\"url(#pd77a8b1bee)\" d=\"M 228.214716 224.64 \nL 234.301989 224.64 \nL 234.301989 223.787795 \nL 228.214716 223.787795 \nz\n\" style=\"fill:#1f77b4;opacity:0.5;\"/>\n   </g>\n   <g id=\"patch_33\">\n    <path clip-path=\"url(#pd77a8b1bee)\" d=\"M 234.301989 224.64 \nL 240.389261 224.64 \nL 240.389261 224.64 \nL 234.301989 224.64 \nz\n\" style=\"fill:#1f77b4;opacity:0.5;\"/>\n   </g>\n   <g id=\"patch_34\">\n    <path clip-path=\"url(#pd77a8b1bee)\" d=\"M 240.389261 224.64 \nL 246.476534 224.64 \nL 246.476534 224.64 \nL 240.389261 224.64 \nz\n\" style=\"fill:#1f77b4;opacity:0.5;\"/>\n   </g>\n   <g id=\"patch_35\">\n    <path clip-path=\"url(#pd77a8b1bee)\" d=\"M 246.476534 224.64 \nL 252.563807 224.64 \nL 252.563807 224.64 \nL 246.476534 224.64 \nz\n\" style=\"fill:#1f77b4;opacity:0.5;\"/>\n   </g>\n   <g id=\"patch_36\">\n    <path clip-path=\"url(#pd77a8b1bee)\" d=\"M 252.563807 224.64 \nL 258.65108 224.64 \nL 258.65108 224.64 \nL 252.563807 224.64 \nz\n\" style=\"fill:#1f77b4;opacity:0.5;\"/>\n   </g>\n   <g id=\"patch_37\">\n    <path clip-path=\"url(#pd77a8b1bee)\" d=\"M 258.65108 224.64 \nL 264.738352 224.64 \nL 264.738352 224.64 \nL 258.65108 224.64 \nz\n\" style=\"fill:#1f77b4;opacity:0.5;\"/>\n   </g>\n   <g id=\"patch_38\">\n    <path clip-path=\"url(#pd77a8b1bee)\" d=\"M 264.738352 224.64 \nL 270.825625 224.64 \nL 270.825625 224.64 \nL 264.738352 224.64 \nz\n\" style=\"fill:#1f77b4;opacity:0.5;\"/>\n   </g>\n   <g id=\"patch_39\">\n    <path clip-path=\"url(#pd77a8b1bee)\" d=\"M 270.825625 224.64 \nL 276.912898 224.64 \nL 276.912898 223.787795 \nL 270.825625 223.787795 \nz\n\" style=\"fill:#1f77b4;opacity:0.5;\"/>\n   </g>\n   <g id=\"patch_40\">\n    <path clip-path=\"url(#pd77a8b1bee)\" d=\"M 276.912898 224.64 \nL 283.00017 224.64 \nL 283.00017 224.64 \nL 276.912898 224.64 \nz\n\" style=\"fill:#1f77b4;opacity:0.5;\"/>\n   </g>\n   <g id=\"patch_41\">\n    <path clip-path=\"url(#pd77a8b1bee)\" d=\"M 283.00017 224.64 \nL 289.087443 224.64 \nL 289.087443 224.64 \nL 283.00017 224.64 \nz\n\" style=\"fill:#1f77b4;opacity:0.5;\"/>\n   </g>\n   <g id=\"patch_42\">\n    <path clip-path=\"url(#pd77a8b1bee)\" d=\"M 289.087443 224.64 \nL 295.174716 224.64 \nL 295.174716 224.64 \nL 289.087443 224.64 \nz\n\" style=\"fill:#1f77b4;opacity:0.5;\"/>\n   </g>\n   <g id=\"patch_43\">\n    <path clip-path=\"url(#pd77a8b1bee)\" d=\"M 295.174716 224.64 \nL 301.261989 224.64 \nL 301.261989 224.64 \nL 295.174716 224.64 \nz\n\" style=\"fill:#1f77b4;opacity:0.5;\"/>\n   </g>\n   <g id=\"patch_44\">\n    <path clip-path=\"url(#pd77a8b1bee)\" d=\"M 301.261989 224.64 \nL 307.349261 224.64 \nL 307.349261 224.64 \nL 301.261989 224.64 \nz\n\" style=\"fill:#1f77b4;opacity:0.5;\"/>\n   </g>\n   <g id=\"patch_45\">\n    <path clip-path=\"url(#pd77a8b1bee)\" d=\"M 307.349261 224.64 \nL 313.436534 224.64 \nL 313.436534 223.787795 \nL 307.349261 223.787795 \nz\n\" style=\"fill:#1f77b4;opacity:0.5;\"/>\n   </g>\n   <g id=\"patch_46\">\n    <path clip-path=\"url(#pd77a8b1bee)\" d=\"M 313.436534 224.64 \nL 319.523807 224.64 \nL 319.523807 224.64 \nL 313.436534 224.64 \nz\n\" style=\"fill:#1f77b4;opacity:0.5;\"/>\n   </g>\n   <g id=\"patch_47\">\n    <path clip-path=\"url(#pd77a8b1bee)\" d=\"M 319.523807 224.64 \nL 325.61108 224.64 \nL 325.61108 224.64 \nL 319.523807 224.64 \nz\n\" style=\"fill:#1f77b4;opacity:0.5;\"/>\n   </g>\n   <g id=\"patch_48\">\n    <path clip-path=\"url(#pd77a8b1bee)\" d=\"M 325.61108 224.64 \nL 331.698352 224.64 \nL 331.698352 224.64 \nL 325.61108 224.64 \nz\n\" style=\"fill:#1f77b4;opacity:0.5;\"/>\n   </g>\n   <g id=\"patch_49\">\n    <path clip-path=\"url(#pd77a8b1bee)\" d=\"M 331.698352 224.64 \nL 337.785625 224.64 \nL 337.785625 224.64 \nL 331.698352 224.64 \nz\n\" style=\"fill:#1f77b4;opacity:0.5;\"/>\n   </g>\n   <g id=\"patch_50\">\n    <path clip-path=\"url(#pd77a8b1bee)\" d=\"M 337.785625 224.64 \nL 343.872898 224.64 \nL 343.872898 224.64 \nL 337.785625 224.64 \nz\n\" style=\"fill:#1f77b4;opacity:0.5;\"/>\n   </g>\n   <g id=\"patch_51\">\n    <path clip-path=\"url(#pd77a8b1bee)\" d=\"M 343.872898 224.64 \nL 349.96017 224.64 \nL 349.96017 224.64 \nL 343.872898 224.64 \nz\n\" style=\"fill:#1f77b4;opacity:0.5;\"/>\n   </g>\n   <g id=\"patch_52\">\n    <path clip-path=\"url(#pd77a8b1bee)\" d=\"M 349.96017 224.64 \nL 356.047443 224.64 \nL 356.047443 223.787795 \nL 349.96017 223.787795 \nz\n\" style=\"fill:#1f77b4;opacity:0.5;\"/>\n   </g>\n   <g id=\"matplotlib.axis_1\">\n    <g id=\"xtick_1\">\n     <g id=\"line2d_1\">\n      <defs>\n       <path d=\"M 0 0 \nL 0 3.5 \n\" id=\"me1ae890266\" style=\"stroke:#000000;stroke-width:0.8;\"/>\n      </defs>\n      <g>\n       <use style=\"stroke:#000000;stroke-width:0.8;\" x=\"93.983545\" xlink:href=\"#me1ae890266\" y=\"224.64\"/>\n      </g>\n     </g>\n     <g id=\"text_1\">\n      <!-- 20 -->\n      <g transform=\"translate(87.621045 239.238437)scale(0.1 -0.1)\">\n       <defs>\n        <path d=\"M 19.1875 8.296875 \nL 53.609375 8.296875 \nL 53.609375 0 \nL 7.328125 0 \nL 7.328125 8.296875 \nQ 12.9375 14.109375 22.625 23.890625 \nQ 32.328125 33.6875 34.8125 36.53125 \nQ 39.546875 41.84375 41.421875 45.53125 \nQ 43.3125 49.21875 43.3125 52.78125 \nQ 43.3125 58.59375 39.234375 62.25 \nQ 35.15625 65.921875 28.609375 65.921875 \nQ 23.96875 65.921875 18.8125 64.3125 \nQ 13.671875 62.703125 7.8125 59.421875 \nL 7.8125 69.390625 \nQ 13.765625 71.78125 18.9375 73 \nQ 24.125 74.21875 28.421875 74.21875 \nQ 39.75 74.21875 46.484375 68.546875 \nQ 53.21875 62.890625 53.21875 53.421875 \nQ 53.21875 48.921875 51.53125 44.890625 \nQ 49.859375 40.875 45.40625 35.40625 \nQ 44.1875 33.984375 37.640625 27.21875 \nQ 31.109375 20.453125 19.1875 8.296875 \nz\n\" id=\"DejaVuSans-50\"/>\n        <path d=\"M 31.78125 66.40625 \nQ 24.171875 66.40625 20.328125 58.90625 \nQ 16.5 51.421875 16.5 36.375 \nQ 16.5 21.390625 20.328125 13.890625 \nQ 24.171875 6.390625 31.78125 6.390625 \nQ 39.453125 6.390625 43.28125 13.890625 \nQ 47.125 21.390625 47.125 36.375 \nQ 47.125 51.421875 43.28125 58.90625 \nQ 39.453125 66.40625 31.78125 66.40625 \nz\nM 31.78125 74.21875 \nQ 44.046875 74.21875 50.515625 64.515625 \nQ 56.984375 54.828125 56.984375 36.375 \nQ 56.984375 17.96875 50.515625 8.265625 \nQ 44.046875 -1.421875 31.78125 -1.421875 \nQ 19.53125 -1.421875 13.0625 8.265625 \nQ 6.59375 17.96875 6.59375 36.375 \nQ 6.59375 54.828125 13.0625 64.515625 \nQ 19.53125 74.21875 31.78125 74.21875 \nz\n\" id=\"DejaVuSans-48\"/>\n       </defs>\n       <use xlink:href=\"#DejaVuSans-50\"/>\n       <use x=\"63.623047\" xlink:href=\"#DejaVuSans-48\"/>\n      </g>\n     </g>\n    </g>\n    <g id=\"xtick_2\">\n     <g id=\"line2d_2\">\n      <g>\n       <use style=\"stroke:#000000;stroke-width:0.8;\" x=\"152.328012\" xlink:href=\"#me1ae890266\" y=\"224.64\"/>\n      </g>\n     </g>\n     <g id=\"text_2\">\n      <!-- 30 -->\n      <g transform=\"translate(145.965512 239.238437)scale(0.1 -0.1)\">\n       <defs>\n        <path d=\"M 40.578125 39.3125 \nQ 47.65625 37.796875 51.625 33 \nQ 55.609375 28.21875 55.609375 21.1875 \nQ 55.609375 10.40625 48.1875 4.484375 \nQ 40.765625 -1.421875 27.09375 -1.421875 \nQ 22.515625 -1.421875 17.65625 -0.515625 \nQ 12.796875 0.390625 7.625 2.203125 \nL 7.625 11.71875 \nQ 11.71875 9.328125 16.59375 8.109375 \nQ 21.484375 6.890625 26.8125 6.890625 \nQ 36.078125 6.890625 40.9375 10.546875 \nQ 45.796875 14.203125 45.796875 21.1875 \nQ 45.796875 27.640625 41.28125 31.265625 \nQ 36.765625 34.90625 28.71875 34.90625 \nL 20.21875 34.90625 \nL 20.21875 43.015625 \nL 29.109375 43.015625 \nQ 36.375 43.015625 40.234375 45.921875 \nQ 44.09375 48.828125 44.09375 54.296875 \nQ 44.09375 59.90625 40.109375 62.90625 \nQ 36.140625 65.921875 28.71875 65.921875 \nQ 24.65625 65.921875 20.015625 65.03125 \nQ 15.375 64.15625 9.8125 62.3125 \nL 9.8125 71.09375 \nQ 15.4375 72.65625 20.34375 73.4375 \nQ 25.25 74.21875 29.59375 74.21875 \nQ 40.828125 74.21875 47.359375 69.109375 \nQ 53.90625 64.015625 53.90625 55.328125 \nQ 53.90625 49.265625 50.4375 45.09375 \nQ 46.96875 40.921875 40.578125 39.3125 \nz\n\" id=\"DejaVuSans-51\"/>\n       </defs>\n       <use xlink:href=\"#DejaVuSans-51\"/>\n       <use x=\"63.623047\" xlink:href=\"#DejaVuSans-48\"/>\n      </g>\n     </g>\n    </g>\n    <g id=\"xtick_3\">\n     <g id=\"line2d_3\">\n      <g>\n       <use style=\"stroke:#000000;stroke-width:0.8;\" x=\"210.672479\" xlink:href=\"#me1ae890266\" y=\"224.64\"/>\n      </g>\n     </g>\n     <g id=\"text_3\">\n      <!-- 40 -->\n      <g transform=\"translate(204.309979 239.238437)scale(0.1 -0.1)\">\n       <defs>\n        <path d=\"M 37.796875 64.3125 \nL 12.890625 25.390625 \nL 37.796875 25.390625 \nz\nM 35.203125 72.90625 \nL 47.609375 72.90625 \nL 47.609375 25.390625 \nL 58.015625 25.390625 \nL 58.015625 17.1875 \nL 47.609375 17.1875 \nL 47.609375 0 \nL 37.796875 0 \nL 37.796875 17.1875 \nL 4.890625 17.1875 \nL 4.890625 26.703125 \nz\n\" id=\"DejaVuSans-52\"/>\n       </defs>\n       <use xlink:href=\"#DejaVuSans-52\"/>\n       <use x=\"63.623047\" xlink:href=\"#DejaVuSans-48\"/>\n      </g>\n     </g>\n    </g>\n    <g id=\"xtick_4\">\n     <g id=\"line2d_4\">\n      <g>\n       <use style=\"stroke:#000000;stroke-width:0.8;\" x=\"269.016947\" xlink:href=\"#me1ae890266\" y=\"224.64\"/>\n      </g>\n     </g>\n     <g id=\"text_4\">\n      <!-- 50 -->\n      <g transform=\"translate(262.654447 239.238437)scale(0.1 -0.1)\">\n       <defs>\n        <path d=\"M 10.796875 72.90625 \nL 49.515625 72.90625 \nL 49.515625 64.59375 \nL 19.828125 64.59375 \nL 19.828125 46.734375 \nQ 21.96875 47.46875 24.109375 47.828125 \nQ 26.265625 48.1875 28.421875 48.1875 \nQ 40.625 48.1875 47.75 41.5 \nQ 54.890625 34.8125 54.890625 23.390625 \nQ 54.890625 11.625 47.5625 5.09375 \nQ 40.234375 -1.421875 26.90625 -1.421875 \nQ 22.3125 -1.421875 17.546875 -0.640625 \nQ 12.796875 0.140625 7.71875 1.703125 \nL 7.71875 11.625 \nQ 12.109375 9.234375 16.796875 8.0625 \nQ 21.484375 6.890625 26.703125 6.890625 \nQ 35.15625 6.890625 40.078125 11.328125 \nQ 45.015625 15.765625 45.015625 23.390625 \nQ 45.015625 31 40.078125 35.4375 \nQ 35.15625 39.890625 26.703125 39.890625 \nQ 22.75 39.890625 18.8125 39.015625 \nQ 14.890625 38.140625 10.796875 36.28125 \nz\n\" id=\"DejaVuSans-53\"/>\n       </defs>\n       <use xlink:href=\"#DejaVuSans-53\"/>\n       <use x=\"63.623047\" xlink:href=\"#DejaVuSans-48\"/>\n      </g>\n     </g>\n    </g>\n    <g id=\"xtick_5\">\n     <g id=\"line2d_5\">\n      <g>\n       <use style=\"stroke:#000000;stroke-width:0.8;\" x=\"327.361414\" xlink:href=\"#me1ae890266\" y=\"224.64\"/>\n      </g>\n     </g>\n     <g id=\"text_5\">\n      <!-- 60 -->\n      <g transform=\"translate(320.998914 239.238437)scale(0.1 -0.1)\">\n       <defs>\n        <path d=\"M 33.015625 40.375 \nQ 26.375 40.375 22.484375 35.828125 \nQ 18.609375 31.296875 18.609375 23.390625 \nQ 18.609375 15.53125 22.484375 10.953125 \nQ 26.375 6.390625 33.015625 6.390625 \nQ 39.65625 6.390625 43.53125 10.953125 \nQ 47.40625 15.53125 47.40625 23.390625 \nQ 47.40625 31.296875 43.53125 35.828125 \nQ 39.65625 40.375 33.015625 40.375 \nz\nM 52.59375 71.296875 \nL 52.59375 62.3125 \nQ 48.875 64.0625 45.09375 64.984375 \nQ 41.3125 65.921875 37.59375 65.921875 \nQ 27.828125 65.921875 22.671875 59.328125 \nQ 17.53125 52.734375 16.796875 39.40625 \nQ 19.671875 43.65625 24.015625 45.921875 \nQ 28.375 48.1875 33.59375 48.1875 \nQ 44.578125 48.1875 50.953125 41.515625 \nQ 57.328125 34.859375 57.328125 23.390625 \nQ 57.328125 12.15625 50.6875 5.359375 \nQ 44.046875 -1.421875 33.015625 -1.421875 \nQ 20.359375 -1.421875 13.671875 8.265625 \nQ 6.984375 17.96875 6.984375 36.375 \nQ 6.984375 53.65625 15.1875 63.9375 \nQ 23.390625 74.21875 37.203125 74.21875 \nQ 40.921875 74.21875 44.703125 73.484375 \nQ 48.484375 72.75 52.59375 71.296875 \nz\n\" id=\"DejaVuSans-54\"/>\n       </defs>\n       <use xlink:href=\"#DejaVuSans-54\"/>\n       <use x=\"63.623047\" xlink:href=\"#DejaVuSans-48\"/>\n      </g>\n     </g>\n    </g>\n   </g>\n   <g id=\"matplotlib.axis_2\">\n    <g id=\"ytick_1\">\n     <g id=\"line2d_6\">\n      <defs>\n       <path d=\"M 0 0 \nL -3.5 0 \n\" id=\"mfaa276bd55\" style=\"stroke:#000000;stroke-width:0.8;\"/>\n      </defs>\n      <g>\n       <use style=\"stroke:#000000;stroke-width:0.8;\" x=\"36.465625\" xlink:href=\"#mfaa276bd55\" y=\"224.64\"/>\n      </g>\n     </g>\n     <g id=\"text_6\">\n      <!-- 0.00 -->\n      <g transform=\"translate(7.2 228.439219)scale(0.1 -0.1)\">\n       <defs>\n        <path d=\"M 10.6875 12.40625 \nL 21 12.40625 \nL 21 0 \nL 10.6875 0 \nz\n\" id=\"DejaVuSans-46\"/>\n       </defs>\n       <use xlink:href=\"#DejaVuSans-48\"/>\n       <use x=\"63.623047\" xlink:href=\"#DejaVuSans-46\"/>\n       <use x=\"95.410156\" xlink:href=\"#DejaVuSans-48\"/>\n       <use x=\"159.033203\" xlink:href=\"#DejaVuSans-48\"/>\n      </g>\n     </g>\n    </g>\n    <g id=\"ytick_2\">\n     <g id=\"line2d_7\">\n      <g>\n       <use style=\"stroke:#000000;stroke-width:0.8;\" x=\"36.465625\" xlink:href=\"#mfaa276bd55\" y=\"180.183327\"/>\n      </g>\n     </g>\n     <g id=\"text_7\">\n      <!-- 0.05 -->\n      <g transform=\"translate(7.2 183.982546)scale(0.1 -0.1)\">\n       <use xlink:href=\"#DejaVuSans-48\"/>\n       <use x=\"63.623047\" xlink:href=\"#DejaVuSans-46\"/>\n       <use x=\"95.410156\" xlink:href=\"#DejaVuSans-48\"/>\n       <use x=\"159.033203\" xlink:href=\"#DejaVuSans-53\"/>\n      </g>\n     </g>\n    </g>\n    <g id=\"ytick_3\">\n     <g id=\"line2d_8\">\n      <g>\n       <use style=\"stroke:#000000;stroke-width:0.8;\" x=\"36.465625\" xlink:href=\"#mfaa276bd55\" y=\"135.726655\"/>\n      </g>\n     </g>\n     <g id=\"text_8\">\n      <!-- 0.10 -->\n      <g transform=\"translate(7.2 139.525874)scale(0.1 -0.1)\">\n       <defs>\n        <path d=\"M 12.40625 8.296875 \nL 28.515625 8.296875 \nL 28.515625 63.921875 \nL 10.984375 60.40625 \nL 10.984375 69.390625 \nL 28.421875 72.90625 \nL 38.28125 72.90625 \nL 38.28125 8.296875 \nL 54.390625 8.296875 \nL 54.390625 0 \nL 12.40625 0 \nz\n\" id=\"DejaVuSans-49\"/>\n       </defs>\n       <use xlink:href=\"#DejaVuSans-48\"/>\n       <use x=\"63.623047\" xlink:href=\"#DejaVuSans-46\"/>\n       <use x=\"95.410156\" xlink:href=\"#DejaVuSans-49\"/>\n       <use x=\"159.033203\" xlink:href=\"#DejaVuSans-48\"/>\n      </g>\n     </g>\n    </g>\n    <g id=\"ytick_4\">\n     <g id=\"line2d_9\">\n      <g>\n       <use style=\"stroke:#000000;stroke-width:0.8;\" x=\"36.465625\" xlink:href=\"#mfaa276bd55\" y=\"91.269982\"/>\n      </g>\n     </g>\n     <g id=\"text_9\">\n      <!-- 0.15 -->\n      <g transform=\"translate(7.2 95.069201)scale(0.1 -0.1)\">\n       <use xlink:href=\"#DejaVuSans-48\"/>\n       <use x=\"63.623047\" xlink:href=\"#DejaVuSans-46\"/>\n       <use x=\"95.410156\" xlink:href=\"#DejaVuSans-49\"/>\n       <use x=\"159.033203\" xlink:href=\"#DejaVuSans-53\"/>\n      </g>\n     </g>\n    </g>\n    <g id=\"ytick_5\">\n     <g id=\"line2d_10\">\n      <g>\n       <use style=\"stroke:#000000;stroke-width:0.8;\" x=\"36.465625\" xlink:href=\"#mfaa276bd55\" y=\"46.81331\"/>\n      </g>\n     </g>\n     <g id=\"text_10\">\n      <!-- 0.20 -->\n      <g transform=\"translate(7.2 50.612529)scale(0.1 -0.1)\">\n       <use xlink:href=\"#DejaVuSans-48\"/>\n       <use x=\"63.623047\" xlink:href=\"#DejaVuSans-46\"/>\n       <use x=\"95.410156\" xlink:href=\"#DejaVuSans-50\"/>\n       <use x=\"159.033203\" xlink:href=\"#DejaVuSans-48\"/>\n      </g>\n     </g>\n    </g>\n   </g>\n   <g id=\"patch_53\">\n    <path d=\"M 36.465625 224.64 \nL 36.465625 7.2 \n\" style=\"fill:none;stroke:#000000;stroke-linecap:square;stroke-linejoin:miter;stroke-width:0.8;\"/>\n   </g>\n   <g id=\"patch_54\">\n    <path d=\"M 371.265625 224.64 \nL 371.265625 7.2 \n\" style=\"fill:none;stroke:#000000;stroke-linecap:square;stroke-linejoin:miter;stroke-width:0.8;\"/>\n   </g>\n   <g id=\"patch_55\">\n    <path d=\"M 36.465625 224.64 \nL 371.265625 224.64 \n\" style=\"fill:none;stroke:#000000;stroke-linecap:square;stroke-linejoin:miter;stroke-width:0.8;\"/>\n   </g>\n   <g id=\"patch_56\">\n    <path d=\"M 36.465625 7.2 \nL 371.265625 7.2 \n\" style=\"fill:none;stroke:#000000;stroke-linecap:square;stroke-linejoin:miter;stroke-width:0.8;\"/>\n   </g>\n  </g>\n </g>\n <defs>\n  <clipPath id=\"pd77a8b1bee\">\n   <rect height=\"217.44\" width=\"334.8\" x=\"36.465625\" y=\"7.2\"/>\n  </clipPath>\n </defs>\n</svg>\n",
      "image/png": "[encoded data removed]"
     },
     "metadata": {
      "needs_background": "light"
     }
    }
   ],
   "source": [
    "class Session:\n",
    "    def __init__(self,startTime,stopTime,requests,threshold):\n",
    "        self.startTime = startTime\n",
    "        self.stopTime = stopTime\n",
    "        self.requests = requests\n",
    "        self.sessionLen = (stopTime - startTime + threshold)/60.0\n",
    "        \n",
    "    def __repr__(self):\n",
    "        print(\"SESSION\")\n",
    "        print(self.startTime)\n",
    "        print(self.stopTime)\n",
    "        # print(\"Session length: \" + str(int(self.sessionLen))+ \"min\")\n",
    "        STR = \"\"\n",
    "        for r in self.requests:\n",
    "            print(r)\n",
    "            STR += (\"  \" + r.page + \"    \" + str(datetime.timedelta(seconds=r.time)) + \"\\n\")\n",
    "        return STR\n",
    "\n",
    "class Computer:\n",
    "    def __init__(self):\n",
    "        self.ip = []\n",
    "        self.sessions = []\n",
    "    def __repr__(self):\n",
    "        return self.ip\n",
    "\n",
    "PAGES = [\"Shop.html\", \"AddProduct.html\", \"Summary.html\", \"Payment.html\",\"About.html\", \"Contact.html\"]\n",
    "\n",
    "LINKS = [[1, 4],\n",
    "         [2,4],\n",
    "         [3],\n",
    "         [],\n",
    "         [1,5],\n",
    "         []]\n",
    "\n",
    "users = {}\n",
    "sessions = []\n",
    "for req in reqs:\n",
    "    r = str(req).split()\n",
    "    \n",
    "    if r[0] not in users:\n",
    "        users[r[0]] = []\n",
    "    users[r[0]].append(req)\n",
    "\n",
    "threshold = 765\n",
    "for i in users.keys():\n",
    "    c = 1\n",
    "    startTime = -1\n",
    "    requests = []\n",
    "    for j in users[i]:\n",
    "        if startTime == -1:\n",
    "            startTime = j.time\n",
    "        requests.append(j)\n",
    "        try:\n",
    "            k = users[i][c]\n",
    "        except:\n",
    "            sessions.append(Session(startTime,j.time,requests,threshold))\n",
    "        else:\n",
    "            if k.time - j.time >= threshold:\n",
    "                sessions.append(Session(startTime,j.time,requests,threshold))\n",
    "                startTime = k.time\n",
    "                requests = []\n",
    "\n",
    "        c += 1\n",
    "\n",
    "    # sessions.append(Session(startTime,j.time,requests,threshold))\n",
    "    startTime = -1\n",
    "    requests = []\n",
    "\n",
    "print(\"3.1) The number of sessions: \" + str(len(sessions)))\n",
    "print(\"3.2) The number of users: \" + str(len(users.keys())))\n",
    "print(\"3.3) The average number of sessions per one user: \" + str(round(len(sessions)/len(users.keys()),2)))\n",
    "\n",
    "# plot distribution\n",
    "count, bins, ignored = plt.hist([i.sessionLen for i in sessions], 50, alpha=0.5, density=True)\n",
    "plt.plot()\n",
    "\n",
    "# x_axis = np.arange(len(pages))\n",
    "# plt.bar(x_axis, data, align='center', alpha=0.5)\n",
    "# plt.xticks(y_pos, pages, rotation=90)"
   ]
  }
 ],
 "metadata": {
  "kernelspec": {
   "display_name": "Python 3",
   "language": "python",
   "name": "python3"
  },
  "language_info": {
   "codemirror_mode": {
    "name": "ipython",
    "version": 3
   },
   "file_extension": ".py",
   "mimetype": "text/x-python",
   "name": "python",
   "nbconvert_exporter": "python",
   "pygments_lexer": "ipython3",
   "version": "3.8.5"
  }
 },
 "nbformat": 4,
 "nbformat_minor": 2
}