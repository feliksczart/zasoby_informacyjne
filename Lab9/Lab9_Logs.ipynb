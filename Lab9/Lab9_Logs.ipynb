{
 "cells": [
  {
   "cell_type": "code",
   "execution_count": 1,
   "metadata": {
    "collapsed": true
   },
   "outputs": [],
   "source": [
    "%matplotlib inline\n",
    "import numpy as np\n",
    "import matplotlib.pyplot as plt\n",
    "import datetime\n",
    "import re\n",
    "from email import utils"
   ]
  },
  {
   "cell_type": "markdown",
   "metadata": {},
   "source": [
    "1) Log file is loaded"
   ]
  },
  {
   "cell_type": "code",
   "execution_count": 61,
   "metadata": {},
   "outputs": [
    {
     "output_type": "stream",
     "name": "stdout",
     "text": [
      "156.15.13.173 [01/Jan/2018:11:13:49 +0100] \"GET AddProduct.html HTTP/1.0\" 200 2356\n176.247.135.49 [01/Jan/2018:11:18:07 +0100] \"GET Shop.html HTTP/1.0\" 200 7466\n176.247.135.49 [01/Jan/2018:11:19:05 +0100] \"GET AddProduct.html HTTP/1.0\" 200 2356\n"
     ]
    }
   ],
   "source": [
    "file = open(\"log.txt\", \"r\") \n",
    "lines = file.readlines()\n",
    "for l in range(3): print(lines[l][:-1])"
   ]
  },
  {
   "cell_type": "markdown",
   "metadata": {},
   "source": [
    "2) Cass \"Request\" parses and keeps data of a single requests. Complete the TODO, where a given \"line\" (string) should be parsed in order to dervie the ip of the host making the request, time of the request (in seconds), and target page (name)."
   ]
  },
  {
   "cell_type": "code",
   "execution_count": 72,
   "metadata": {
    "collapsed": true
   },
   "outputs": [],
   "source": [
    "\n",
    "class Request:\n",
    "    def __init__(self, log):\n",
    "        # TODO DO PARSING HERE\n",
    "        for log_part in log.split():\n",
    "            try:\n",
    "                ip = re.findall(r'(?:\\d{1,3}\\.){3}\\d{1,3}', log_part)\n",
    "            except ValueError:\n",
    "                pass\n",
    "            else:\n",
    "                self.ip = ip[0]\n",
    "                break\n",
    "\n",
    "        for log_part in log.split():\n",
    "            if log_part[0] == '[':\n",
    "                hours = int(log_part.split(':')[1])*3600\n",
    "                minutes = int(log_part.split(':')[2])*60\n",
    "                self.time = int(log_part.split(':')[3]) + minutes + hours\n",
    "            elif log_part.endswith('.html'):\n",
    "                self.page = log_part\n",
    "\n",
    "        # convert hours + minutes + seconds -> total number of seconds\n",
    "        \n",
    "    def __repr__(self):\n",
    "        return self.ip + \"     \" +  str(datetime.timedelta(seconds=self.time)) + \" -> \" + self.page"
   ]
  },
  {
   "cell_type": "markdown",
   "metadata": {},
   "source": [
    "3) Each line of log.txt is parsed and the Request objects are added to the list"
   ]
  },
  {
   "cell_type": "code",
   "execution_count": 73,
   "metadata": {
    "tags": []
   },
   "outputs": [
    {
     "output_type": "stream",
     "name": "stdout",
     "text": [
      "156.15.13.173     11:13:49 -> AddProduct.html\n176.247.135.49     11:18:07 -> Shop.html\n176.247.135.49     11:19:05 -> AddProduct.html\n176.247.135.49     11:29:05 -> Summary.html\n69.84.30.199     11:43:59 -> Shop.html\n69.84.30.199     11:45:16 -> AddProduct.html\n57.116.45.120     11:46:45 -> AddProduct.html\n69.84.30.199     11:50:36 -> Summary.html\n69.84.30.199     11:52:38 -> Payment.html\n26.19.183.202     11:53:11 -> AddProduct.html\n"
     ]
    }
   ],
   "source": [
    "reqs = [Request(line) for line in lines]\n",
    "for l in range(10): \n",
    "    print(reqs[l]) "
   ]
  },
  {
   "cell_type": "markdown",
   "metadata": {},
   "source": [
    "# Exercise"
   ]
  },
  {
   "cell_type": "markdown",
   "metadata": {},
   "source": [
    "Your task is to analyze the log file. You should indentify the users and sessions. Then, compute the following: <br>\n",
    "3.1) the number of sessions (should be 1000 :) ), <br>\n",
    "3.2) the number of users, <br>\n",
    "3.3) the average number of sessions per one user <br>\n",
    "3.4) use the distribution plot to visualize the sessions' lengths (minutes);  <br>\n",
    "3.5) use the distribution plot to visualize the sessions' lengths (the number of requests) <br>\n",
    "3.6) use the distribution plot to visualize sessions' starting times (hours). <br>\n",
    "3.7) which web page is the most common entry point?; for each page plot the number of times it has been an entry page,  <br>\n",
    "3.8) which web page is the most common departure point?; for each page plot the number of times the user stopped a session while being on this page, <br>\n",
    "3.9) for each page plot the average time the user stayed on this page <br>\n",
    "3.10) print the fist 10 sessions (paths). <br>\n",
    "\n",
    "You may find the following classes helpful and data."
   ]
  },
  {
   "cell_type": "code",
   "execution_count": 183,
   "metadata": {
    "collapsed": true,
    "tags": []
   },
   "outputs": [
    {
     "output_type": "stream",
     "name": "stdout",
     "text": [
      "3.1) The number of sessions: 1000\n3.2) The number of users: 391\n3.3) The average number of sessions per one user: 2.56\n[234.78, 284.43, 7.58, 428.92, 11.32, 307.27, 67.23, 1.13, 48.53, 326.52, 1.35, 414.73, 1127.93, 442.93, 8.93, 1.22, 11.02, 293.7, 107.37, 12.13, 247.12, 145.23, 82.83, 0.93, 194.52, 84.9, 8.73, 169.85, 61.75, 71.03, 1.35, 254.67, 53.78, 1054.52, 153.8, 130.38, 1.0, 10.88, 309.3, 8.15, 277.28, 34.6, 1.35, 45.65, 32.32, 410.08, 9.15, 172.27, 44.72, 22.65, 102.17, 174.1, 138.43, 9.7, 83.72, 294.48, 13.25, 108.8, 154.48, 223.8, 18.25, 265.98, 41.38, 84.03, 7.87, 61.52, 133.48, 110.0, 1.58, 146.13, 223.27, 152.92, 1298.4, 170.8, 220.67, 1.67, 7.72, 153.48, 288.93, 1224.18, 159.7, 12.55, 159.62, 178.47, 9.68, 118.88, 0.92, 219.22, 162.48, 8.3, 245.2, 133.2, 12.3, 68.37, 179.9, 48.7, 1.08, 137.6, 197.68, 72.8, 13.55, 132.37, 9.97, 215.53, 31.28, 190.32, 1227.03, 360.48, 0.88, 231.18, 72.95, 53.82, 13.03, 251.23, 1043.93, 280.45, 61.25, 52.5, 1188.4, 148.93, 152.88, 6.68, 13.9, 31.6, 45.23, 164.63, 0.93, 49.85, 89.1, 108.02, 1.37, 111.78, 191.17, 86.65, 1188.02, 500.93, 1.3, 76.85, 333.22, 1212.93, 1.43, 92.0, 124.83, 113.6, 8.53, 81.32, 144.65, 164.58, 1197.08, 219.22, 72.9, 201.47, 10.38, 64.63, 85.18, 101.08, 1.62, 71.87, 37.93, 65.62, 10.03, 306.8, 1119.37, 180.63, 73.6, 88.17, 8.1, 249.82, 55.27, 17.32, 296.4, 9.63, 43.82, 104.52, 156.98, 1.05, 10.0, 336.03, 8.27, 154.13, 77.47, 1055.68, 74.37, 184.4, 91.73, 1174.75, 389.55, 1214.8, 240.48, 71.6, 1138.03, 232.98, 136.07, 8.97, 123.98, 43.8, 46.68, 10.7, 151.33, 95.68, 10.25, 418.9, 12.7, 123.23, 12.85, 280.17, 1112.22, 38.63, 284.12, 98.43, 1253.82, 46.25, 139.93, 183.98, 8.93, 251.05, 42.5, 1128.0, 179.67, 64.47, 8.2, 257.03, 8.9, 222.65, 1058.67, 82.45, 106.57, 46.92, 1073.12, 188.97, 84.62, 73.63, 8.78, 201.3, 116.6, 11.02, 45.75, 54.52, 69.18, 9.4, 123.73, 44.58, 130.97, 8.92, 8.73, 50.8, 137.85, 7.02, 356.82, 1.67, 130.88, 50.95, 94.9, 1.17, 56.27, 54.73, 951.25, 131.87, 40.87, 8.03, 155.4, 34.65, 34.1, 7.47, 277.77, 48.98, 1172.47, 214.25, 1060.35, 91.23, 937.37, 82.17, 69.58, 265.82, 1263.77, 101.35, 186.57, 1136.22, 148.05, 82.42, 206.78, 1.07, 42.67, 166.38, 1.07, 218.27, 1.08, 0.92, 94.97, 103.3, 6.93, 124.7, 143.07, 149.73, 12.7, 63.42, 128.87, 77.15, 11.17, 271.08, 1.6, 271.27, 7.9, 205.38, 13.13, 1.47, 185.5, 8.33, 130.37, 9.95, 131.15, 990.3, 83.55, 48.32, 32.0, 11.42, 44.93, 74.92, 980.52, 99.67, 0.97, 66.97, 9.67, 85.97, 33.37, 1.4, 36.88, 141.38, 89.78, 0.85, 158.57, 82.15, 37.52, 1.0, 9.8, 133.08, 41.45, 11.92, 236.35, 10.02, 94.48, 131.97, 53.22, 1148.27, 1148.27, 106.03, 62.15, 1.25, 1.58, 106.73, 152.02, 1128.6, 126.03, 78.82, 1075.72, 114.47, 75.23, 1.45, 115.9, 31.9, 239.58, 11.85, 180.18, 7.55, 44.73, 72.97, 7.32, 347.0, 1.15, 129.32, 83.12, 11.22, 105.13, 70.75, 1049.47, 7.75, 164.97, 330.88, 7.73, 152.77, 117.22, 1.38, 58.8, 49.45, 0.88, 9.02, 113.33, 41.23, 76.72, 1107.1, 161.68, 8.92, 114.13, 53.87, 1044.17, 83.8, 34.25, 118.38, 1112.83, 90.65, 121.62, 48.55, 11.47, 109.28, 53.95, 31.18, 38.45, 31.27, 103.68, 44.23, 1.57, 231.6, 1.35, 103.68, 156.7, 17.38, 133.62, 35.22, 9.12, 30.93, 123.23, 201.45, 11.05, 116.57, 48.88, 107.68, 13.07, 125.48, 101.95, 43.0, 13.32, 75.55, 154.33, 1111.47, 176.7, 49.0, 60.18, 8.38, 70.1, 71.55, 1.1, 171.17, 11.42, 199.97, 41.5, 1.28, 111.95, 83.6, 13.78, 255.48, 166.62, 9.6, 52.03, 324.03, 11.68, 146.08, 8.02, 32.3, 119.63, 112.92, 1.0, 186.82, 1.45, 189.38, 0.87, 44.45, 158.72, 70.5, 8.45, 256.93, 1149.77, 215.53, 18.48, 149.1, 152.73, 8.6, 63.62, 48.58, 197.57, 1.08, 154.93, 1049.08, 31.47, 7.93, 11.7, 206.43, 132.68, 11.07, 103.1, 1.38, 110.67, 10.57, 63.67, 75.48, 36.43, 10.52, 63.8, 16.12, 30.25, 148.17, 11.65, 77.1, 10.97, 14.27, 74.18, 107.97, 1101.87, 88.43, 109.25, 213.8, 11.55, 58.77, 53.0, 248.37, 15.15, 109.07, 1.65, 98.35, 164.63, 1.42, 1171.63, 33.13, 89.62, 45.4, 1.4, 157.57, 48.52, 51.27, 8.02, 83.93, 93.12, 1.52, 119.03, 33.62, 1.2, 38.92, 214.83, 1.17, 99.82, 8.55, 69.62, 50.25, 98.58, 1.07, 42.52, 48.85, 191.93, 9.72, 194.2, 8.83, 69.5, 43.25, 168.38, 1200.25, 115.53, 19.4, 86.68, 181.68, 1188.77, 68.27, 71.32, 1060.07, 163.72, 1085.5, 177.43, 1099.97, 46.68, 171.47, 1.67, 129.43, 36.33, 173.8, 8.97, 161.92, 72.35, 30.62, 11.3, 102.28, 30.48, 191.53, 1249.35, 93.22, 9.05, 88.2, 95.07, 12.27, 21.93, 70.02, 106.45, 11.08, 49.13, 8.65, 48.07, 267.08, 9.08, 135.43, 32.9, 9.22, 1.02, 0.92, 44.52, 86.33, 1060.55, 62.08, 151.97, 9.28, 51.88, 34.85, 32.48, 10.33, 10.78, 176.92, 83.33, 0.93, 174.73, 18.42, 33.48, 46.23, 102.5, 18.12, 5.45, 130.35, 40.23, 46.12, 1149.3, 97.8, 76.77, 12.35, 123.97, 9.48, 190.53, 1123.68, 41.85, 101.68, 136.0, 1.17, 58.58, 8.38, 236.45, 8.18, 118.4, 84.57, 106.12, 12.07, 8.52, 69.7, 44.12, 1.47, 309.02, 1246.3, 211.57, 9.13, 82.92, 36.92, 83.8, 14.25, 128.58, 98.37, 1.13, 254.5, 1193.38, 53.02, 9.2, 70.97, 72.68, 13.33, 46.88, 156.73, 11.08, 72.23, 51.3, 152.78, 8.32, 55.38, 71.05, 54.28, 1127.02, 98.42, 139.83, 1184.85, 92.35, 110.33, 12.3, 225.85, 0.85, 109.83, 52.78, 1110.17, 46.95, 259.47, 1.7, 122.28, 132.08, 78.5, 13.35, 13.62, 117.0, 16.07, 1083.98, 95.77, 152.68, 1199.5, 30.62, 80.35, 61.65, 1124.2, 121.62, 254.1, 1328.52, 62.48, 70.4, 144.15, 1231.77, 38.93, 8.85, 155.07, 63.55, 21.53, 79.43, 67.93, 139.68, 11.1, 34.73, 322.38, 1320.88, 64.97, 77.35, 202.82, 10.63, 14.57, 30.68, 38.53, 49.28, 12.1, 47.5, 197.43, 8.65, 42.25, 1010.6, 94.67, 62.4, 12.35, 30.92, 133.58, 1.67, 148.0, 1.45, 49.05, 144.12, 26.33, 178.32, 9.03, 10.1, 7.38, 123.35, 41.22, 152.0, 12.52, 12.53, 141.08, 63.68, 20.62, 12.82, 41.23, 12.12, 100.82, 43.87, 1.53, 67.02, 71.08, 7.97, 69.52, 140.32, 30.08, 21.2, 124.13, 21.28, 170.7, 12.12, 38.6, 83.08, 1.07, 129.27, 1.42, 9.82, 21.65, 1.32, 123.33, 9.5, 156.68, 119.52, 9.68, 80.68, 48.75, 10.22, 36.4, 64.17, 9.42, 73.62, 8.25, 136.3, 8.0, 68.47, 177.18, 1.3, 208.28, 1.5, 32.58, 45.23, 8.0, 1079.37, 209.43, 1203.5, 127.37, 11.55, 49.32, 70.6, 51.78, 9.28, 1175.57, 77.75, 175.98, 22.27, 228.33, 9.27, 10.45, 53.35, 33.13, 93.88, 7.97, 151.45, 11.48, 35.38, 38.27, 9.15, 149.3, 32.95, 9.03, 42.17, 69.83, 66.45, 12.23, 156.78, 33.42, 1197.38, 107.65, 1.32, 34.95, 260.35, 13.13, 1317.63, 88.27, 12.45, 122.63, 13.52, 76.05, 123.22, 134.57, 1.32, 91.25, 5.57, 12.9, 92.45, 10.35, 49.6, 48.52, 9.1, 116.93, 8.95, 120.3, 1144.77, 69.88, 13.2, 8.28, 9.9, 63.75, 11.67, 86.2, 1117.38, 54.92, 8.65, 46.4, 7.92, 56.62, 49.07, 0.97, 42.67, 13.32, 62.87, 126.18, 14.93, 1.2, 61.18, 106.97, 11.52, 1.0, 62.5, 33.4, 1.62, 133.75, 6.85, 10.15, 144.87, 8.92, 126.3, 12.82, 41.72, 1081.38, 38.38, 0.85, 83.17, 70.62, 10.18, 96.15, 66.78, 6.97, 9.87, 31.28, 46.35, 1119.8, 264.08, 1.33, 7.12, 9.65, 7.4, 49.12, 13.4, 253.85, 8.72, 38.2, 9.72, 10.65, 126.4, 18.53, 77.28, 1135.12, 92.13, 35.0, 1.37, 101.18, 10.0, 1171.58, 11.82, 132.9, 11.17, 12.1, 34.33, 70.77, 1176.13, 51.0, 33.62, 7.95, 0.92, 1076.35, 45.38, 1.0, 66.1, 1.53, 38.28, 48.53, 1.4, 42.05, 45.92, 12.23, 13.27, 1.43, 78.62, 119.33, 1.68, 1.68, 7.98, 67.65, 1.33, 8.68, 17.33, 155.58, 1269.52, 34.68, 101.48, 10.95, 36.67, 12.95, 51.13, 1170.73, 1170.73, 7.53, 14.07, 9.53, 1.3, 11.42, 1.27, 7.93, 12.08, 1166.17, 1.68, 8.27, 6.33, 1.1, 1.55, 11.1]\n"
     ]
    }
   ],
   "source": [
    "class Session:\n",
    "    def __init__(self):\n",
    "        self.startTime = 0\n",
    "        self.stopTime = 0\n",
    "        self.requests = []\n",
    "        \n",
    "    def __repr__(self):\n",
    "        print(\"SESSION\")\n",
    "        print(self.startTime)\n",
    "        print(self.stopTime)\n",
    "        STR = \"\"\n",
    "        for r in self.requests:\n",
    "            print(r)\n",
    "            STR += (\"  \" + r.page + \"    \" + str(datetime.timedelta(seconds=r.time)) + \"\\n\")\n",
    "        return STR\n",
    "\n",
    "class Computer:\n",
    "    def __init__(self):\n",
    "        self.ip = []\n",
    "        self.sessions = []\n",
    "    def __repr__(self):\n",
    "        return self.ip\n",
    "\n",
    "PAGES = [\"Shop.html\", \"AddProduct.html\", \"Summary.html\", \"Payment.html\",\"About.html\", \"Contact.html\"]\n",
    "\n",
    "LINKS = [[1, 4],\n",
    "         [2,4],\n",
    "         [3],\n",
    "         [],\n",
    "         [1,5],\n",
    "         []]\n",
    "\n",
    "######### USERS COUNT  #######################\n",
    "users = {}\n",
    "for req in reqs:\n",
    "    req = str(req).split()\n",
    "    req = [*req[:2], *[req[3]]]\n",
    "\n",
    "    if req[0] not in users:\n",
    "        users[req[0]] = []\n",
    "    users[req[0]].append([req[1],req[2]])\n",
    "\n",
    "######### SESSIONS COUNT  #######################\n",
    "threshold = 765\n",
    "session_count = 0\n",
    "session_lengths = []\n",
    "for i in users.keys():\n",
    "    c = 1\n",
    "    personal_count = 1\n",
    "    session_start = -1\n",
    "    session_end = -1\n",
    "    for j in users[i][:-1]:\n",
    "        k = users[i][c]\n",
    "        j = j[0].split(':')\n",
    "        k = k[0].split(':')\n",
    "\n",
    "        hj = int(j[0])*3600\n",
    "        mj = int(j[1])*60\n",
    "        sj = int(j[2]) + mj + hj\n",
    "        if session_start == -1:\n",
    "            session_start = sj\n",
    "\n",
    "        hk = int(k[0])*3600\n",
    "        mk = int(k[1])*60\n",
    "        sk = int(k[2]) + mk + hk\n",
    "\n",
    "        if sk - sj > threshold:\n",
    "            session_count += 1\n",
    "            personal_count += 1\n",
    "            session_end = sk\n",
    "        c += 1\n",
    "        if session_end != -1:\n",
    "            session_lengths.append(round((session_end-session_start)/60.0,2))\n",
    "            session_start = -1\n",
    "            session_end = -1\n",
    "    users[i].append(personal_count)\n",
    "    session_count += 1\n",
    "    session_lengths.append(round((sk-session_start)/60.0,2))\n",
    "    session_start = -1\n",
    "    session_end = -1\n",
    "\n",
    "######### AVERAGE SESSIONS #######################\n",
    "average_usr_sess = round(session_count/len(users.keys()),2)\n",
    "\n",
    "print(\"3.1) The number of sessions: \" + str(session_count))\n",
    "print(\"3.2) The number of users: \" + str(len(users.keys())))\n",
    "print(\"3.3) The average number of sessions per one user: \" + str(average_usr_sess))\n",
    "print(session_lengths)\n",
    "\n",
    "# plot distribution\n",
    "# count, bins, ignored = plt.hist(data, 50, alpha=0.5, normed=True)\n",
    "# plt.plot()\n",
    "\n",
    "# x_axis = np.arange(len(pages))\n",
    "# plt.bar(x_axis, data, align='center', alpha=0.5)\n",
    "# plt.xticks(y_pos, pages, rotation=90)"
   ]
  }
 ],
 "metadata": {
  "kernelspec": {
   "display_name": "Python 3",
   "language": "python",
   "name": "python3"
  },
  "language_info": {
   "codemirror_mode": {
    "name": "ipython",
    "version": 3
   },
   "file_extension": ".py",
   "mimetype": "text/x-python",
   "name": "python",
   "nbconvert_exporter": "python",
   "pygments_lexer": "ipython3",
   "version": "3.8.5"
  }
 },
 "nbformat": 4,
 "nbformat_minor": 2
}