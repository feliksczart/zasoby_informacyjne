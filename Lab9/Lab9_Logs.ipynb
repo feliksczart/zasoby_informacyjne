{
 "cells": [
  {
   "cell_type": "code",
   "execution_count": 1,
   "metadata": {
    "collapsed": true
   },
   "outputs": [],
   "source": [
    "%matplotlib inline\n",
    "import numpy as np\n",
    "import matplotlib.pyplot as plt\n",
    "import datetime\n",
    "import re\n",
    "from email import utils"
   ]
  },
  {
   "cell_type": "markdown",
   "metadata": {},
   "source": [
    "1) Log file is loaded"
   ]
  },
  {
   "cell_type": "code",
   "execution_count": 61,
   "metadata": {},
   "outputs": [
    {
     "output_type": "stream",
     "name": "stdout",
     "text": [
      "156.15.13.173 [01/Jan/2018:11:13:49 +0100] \"GET AddProduct.html HTTP/1.0\" 200 2356\n176.247.135.49 [01/Jan/2018:11:18:07 +0100] \"GET Shop.html HTTP/1.0\" 200 7466\n176.247.135.49 [01/Jan/2018:11:19:05 +0100] \"GET AddProduct.html HTTP/1.0\" 200 2356\n"
     ]
    }
   ],
   "source": [
    "file = open(\"log.txt\", \"r\") \n",
    "lines = file.readlines()\n",
    "for l in range(3): print(lines[l][:-1])"
   ]
  },
  {
   "cell_type": "markdown",
   "metadata": {},
   "source": [
    "2) Cass \"Request\" parses and keeps data of a single requests. Complete the TODO, where a given \"line\" (string) should be parsed in order to dervie the ip of the host making the request, time of the request (in seconds), and target page (name)."
   ]
  },
  {
   "cell_type": "code",
   "execution_count": 72,
   "metadata": {
    "collapsed": true
   },
   "outputs": [],
   "source": [
    "\n",
    "class Request:\n",
    "    def __init__(self, log):\n",
    "        # TODO DO PARSING HERE\n",
    "        for log_part in log.split():\n",
    "            try:\n",
    "                ip = re.findall(r'(?:\\d{1,3}\\.){3}\\d{1,3}', log_part)\n",
    "            except ValueError:\n",
    "                pass\n",
    "            else:\n",
    "                self.ip = ip[0]\n",
    "                break\n",
    "\n",
    "        for log_part in log.split():\n",
    "            if log_part[0] == '[':\n",
    "                hours = int(log_part.split(':')[1])*3600\n",
    "                minutes = int(log_part.split(':')[2])*60\n",
    "                self.time = int(log_part.split(':')[3]) + minutes + hours\n",
    "            elif log_part.endswith('.html'):\n",
    "                self.page = log_part\n",
    "\n",
    "        # convert hours + minutes + seconds -> total number of seconds\n",
    "        \n",
    "    def __repr__(self):\n",
    "        return self.ip + \"     \" +  str(datetime.timedelta(seconds=self.time)) + \" -> \" + self.page"
   ]
  },
  {
   "cell_type": "markdown",
   "metadata": {},
   "source": [
    "3) Each line of log.txt is parsed and the Request objects are added to the list"
   ]
  },
  {
   "cell_type": "code",
   "execution_count": 196,
   "metadata": {
    "tags": []
   },
   "outputs": [
    {
     "output_type": "stream",
     "name": "stdout",
     "text": [
      "156.15.13.173     11:13:49 -> AddProduct.html\n176.247.135.49     11:18:07 -> Shop.html\n176.247.135.49     11:19:05 -> AddProduct.html\n176.247.135.49     11:29:05 -> Summary.html\n69.84.30.199     11:43:59 -> Shop.html\n69.84.30.199     11:45:16 -> AddProduct.html\n57.116.45.120     11:46:45 -> AddProduct.html\n69.84.30.199     11:50:36 -> Summary.html\n69.84.30.199     11:52:38 -> Payment.html\n26.19.183.202     11:53:11 -> AddProduct.html\n"
     ]
    }
   ],
   "source": [
    "reqs = [Request(line) for line in lines]\n",
    "for l in range(10): \n",
    "    print(reqs[l]) "
   ]
  },
  {
   "cell_type": "markdown",
   "metadata": {},
   "source": [
    "# Exercise"
   ]
  },
  {
   "cell_type": "markdown",
   "metadata": {},
   "source": [
    "Your task is to analyze the log file. You should indentify the users and sessions. Then, compute the following: <br>\n",
    "3.1) the number of sessions (should be 1000 :) ), <br>\n",
    "3.2) the number of users, <br>\n",
    "3.3) the average number of sessions per one user <br>\n",
    "3.4) use the distribution plot to visualize the sessions' lengths (minutes);  <br>\n",
    "3.5) use the distribution plot to visualize the sessions' lengths (the number of requests) <br>\n",
    "3.6) use the distribution plot to visualize sessions' starting times (hours). <br>\n",
    "3.7) which web page is the most common entry point?; for each page plot the number of times it has been an entry page,  <br>\n",
    "3.8) which web page is the most common departure point?; for each page plot the number of times the user stopped a session while being on this page, <br>\n",
    "3.9) for each page plot the average time the user stayed on this page <br>\n",
    "3.10) print the fist 10 sessions (paths). <br>\n",
    "\n",
    "You may find the following classes helpful and data."
   ]
  },
  {
   "cell_type": "code",
   "execution_count": 240,
   "metadata": {
    "collapsed": true,
    "tags": []
   },
   "outputs": [
    {
     "output_type": "stream",
     "name": "stdout",
     "text": [
      "3.1) The number of sessions: 1000\n3.2) The number of users: 391\n3.3) The average number of sessions per one user: 2.56\nSESSION\n64908\n64908\nSession length: 13min\n57.116.45.120     18:01:48 -> Shop.html\n  Shop.html    18:01:48\n\nSESSION\n42791\n43610\nSession length: 26min\n26.19.183.202     11:53:11 -> AddProduct.html\n26.19.183.202     11:59:00 -> About.html\n26.19.183.202     12:06:50 -> Contact.html\n  AddProduct.html    11:53:11\n  About.html    11:59:00\n  Contact.html    12:06:50\n\nSESSION\n67675\n43610\nSession length: -388min\n\nSESSION\n43489\n43574\nSession length: 14min\n76.75.209.209     12:04:49 -> Shop.html\n76.75.209.209     12:06:14 -> AddProduct.html\n  Shop.html    12:04:49\n  AddProduct.html    12:06:14\n\n"
     ]
    }
   ],
   "source": [
    "class Session:\n",
    "    def __init__(self,startTime,stopTime,requests,threshold):\n",
    "        self.startTime = startTime\n",
    "        self.stopTime = stopTime\n",
    "        self.requests = requests\n",
    "        self.sessionLen = round((stopTime - startTime + threshold)/60,0)\n",
    "        \n",
    "    def __repr__(self):\n",
    "        print(\"SESSION\")\n",
    "        print(self.startTime)\n",
    "        print(self.stopTime)\n",
    "        print(\"Session length: \" + str(int(self.sessionLen))+ \"min\")\n",
    "        STR = \"\"\n",
    "        for r in self.requests:\n",
    "            print(r)\n",
    "            STR += (\"  \" + r.page + \"    \" + str(datetime.timedelta(seconds=r.time)) + \"\\n\")\n",
    "        return STR\n",
    "\n",
    "class Computer:\n",
    "    def __init__(self):\n",
    "        self.ip = []\n",
    "        self.sessions = []\n",
    "    def __repr__(self):\n",
    "        return self.ip\n",
    "\n",
    "PAGES = [\"Shop.html\", \"AddProduct.html\", \"Summary.html\", \"Payment.html\",\"About.html\", \"Contact.html\"]\n",
    "\n",
    "LINKS = [[1, 4],\n",
    "         [2,4],\n",
    "         [3],\n",
    "         [],\n",
    "         [1,5],\n",
    "         []]\n",
    "\n",
    "users = {}\n",
    "sessions = []\n",
    "for req in reqs:\n",
    "    r = str(req).split()\n",
    "    \n",
    "    if r[0] not in users:\n",
    "        users[r[0]] = []\n",
    "    users[r[0]].append(req)\n",
    "\n",
    "threshold = 765\n",
    "for i in users.keys():\n",
    "    c = 1\n",
    "    startTime = -1\n",
    "    requests = []\n",
    "    for j in users[i][:-1]:\n",
    "        if startTime == -1:\n",
    "            startTime = j.time\n",
    "        requests.append(j)\n",
    "        \n",
    "        k = users[i][c]\n",
    "        if k.time - j.time > threshold:\n",
    "            sessions.append(Session(startTime,j.time,requests,threshold))\n",
    "            startTime = k.time\n",
    "            requests = []\n",
    "\n",
    "        c += 1\n",
    "\n",
    "    sessions.append(Session(startTime,j.time,requests,threshold))\n",
    "    startTime = -1\n",
    "    requests = []\n",
    "\n",
    "print(\"3.1) The number of sessions: \" + str(len(sessions)))\n",
    "print(\"3.2) The number of users: \" + str(len(users.keys())))\n",
    "print(\"3.3) The average number of sessions per one user: \" + str(round(len(sessions)/len(users.keys()),2)))\n",
    "# for i in sessions:\n",
    "#     print(i.sessionLen) \n",
    "for l in range(4): \n",
    "    print(sessions[l+10]) \n",
    "# plot distribution\n",
    "# count, bins, ignored = plt.hist([i.sessionLen for i in sessions], 50, alpha=0.5, normed = True)\n",
    "# plt.plot()\n",
    "\n",
    "# x_axis = np.arange(len(pages))\n",
    "# plt.bar(x_axis, data, align='center', alpha=0.5)\n",
    "# plt.xticks(y_pos, pages, rotation=90)"
   ]
  }
 ],
 "metadata": {
  "kernelspec": {
   "display_name": "Python 3",
   "language": "python",
   "name": "python3"
  },
  "language_info": {
   "codemirror_mode": {
    "name": "ipython",
    "version": 3
   },
   "file_extension": ".py",
   "mimetype": "text/x-python",
   "name": "python",
   "nbconvert_exporter": "python",
   "pygments_lexer": "ipython3",
   "version": "3.8.5"
  }
 },
 "nbformat": 4,
 "nbformat_minor": 2
}