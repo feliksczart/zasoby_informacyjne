{
 "cells": [
  {
   "cell_type": "code",
   "execution_count": 1,
   "metadata": {
    "collapsed": true
   },
   "outputs": [],
   "source": [
    "%matplotlib inline\n",
    "import numpy as np\n",
    "import matplotlib.pyplot as plt\n",
    "import datetime\n",
    "import re\n",
    "from email import utils"
   ]
  },
  {
   "cell_type": "markdown",
   "metadata": {},
   "source": [
    "1) Log file is loaded"
   ]
  },
  {
   "cell_type": "code",
   "execution_count": 61,
   "metadata": {},
   "outputs": [
    {
     "output_type": "stream",
     "name": "stdout",
     "text": [
      "156.15.13.173 [01/Jan/2018:11:13:49 +0100] \"GET AddProduct.html HTTP/1.0\" 200 2356\n176.247.135.49 [01/Jan/2018:11:18:07 +0100] \"GET Shop.html HTTP/1.0\" 200 7466\n176.247.135.49 [01/Jan/2018:11:19:05 +0100] \"GET AddProduct.html HTTP/1.0\" 200 2356\n"
     ]
    }
   ],
   "source": [
    "file = open(\"log.txt\", \"r\") \n",
    "lines = file.readlines()\n",
    "for l in range(3): print(lines[l][:-1])"
   ]
  },
  {
   "cell_type": "markdown",
   "metadata": {},
   "source": [
    "2) Cass \"Request\" parses and keeps data of a single requests. Complete the TODO, where a given \"line\" (string) should be parsed in order to dervie the ip of the host making the request, time of the request (in seconds), and target page (name)."
   ]
  },
  {
   "cell_type": "code",
   "execution_count": 72,
   "metadata": {
    "collapsed": true
   },
   "outputs": [],
   "source": [
    "\n",
    "class Request:\n",
    "    def __init__(self, log):\n",
    "        # TODO DO PARSING HERE\n",
    "        for log_part in log.split():\n",
    "            try:\n",
    "                ip = re.findall(r'(?:\\d{1,3}\\.){3}\\d{1,3}', log_part)\n",
    "            except ValueError:\n",
    "                pass\n",
    "            else:\n",
    "                self.ip = ip[0]\n",
    "                break\n",
    "\n",
    "        for log_part in log.split():\n",
    "            if log_part[0] == '[':\n",
    "                hours = int(log_part.split(':')[1])*3600\n",
    "                minutes = int(log_part.split(':')[2])*60\n",
    "                self.time = int(log_part.split(':')[3]) + minutes + hours\n",
    "            elif log_part.endswith('.html'):\n",
    "                self.page = log_part\n",
    "\n",
    "        # convert hours + minutes + seconds -> total number of seconds\n",
    "        \n",
    "    def __repr__(self):\n",
    "        return self.ip + \"     \" +  str(datetime.timedelta(seconds=self.time)) + \" -> \" + self.page"
   ]
  },
  {
   "cell_type": "markdown",
   "metadata": {},
   "source": [
    "3) Each line of log.txt is parsed and the Request objects are added to the list"
   ]
  },
  {
   "cell_type": "code",
   "execution_count": 196,
   "metadata": {
    "tags": []
   },
   "outputs": [
    {
     "output_type": "stream",
     "name": "stdout",
     "text": [
      "156.15.13.173     11:13:49 -> AddProduct.html\n176.247.135.49     11:18:07 -> Shop.html\n176.247.135.49     11:19:05 -> AddProduct.html\n176.247.135.49     11:29:05 -> Summary.html\n69.84.30.199     11:43:59 -> Shop.html\n69.84.30.199     11:45:16 -> AddProduct.html\n57.116.45.120     11:46:45 -> AddProduct.html\n69.84.30.199     11:50:36 -> Summary.html\n69.84.30.199     11:52:38 -> Payment.html\n26.19.183.202     11:53:11 -> AddProduct.html\n"
     ]
    }
   ],
   "source": [
    "reqs = [Request(line) for line in lines]\n",
    "for l in range(10): \n",
    "    print(reqs[l]) "
   ]
  },
  {
   "cell_type": "markdown",
   "metadata": {},
   "source": [
    "# Exercise"
   ]
  },
  {
   "cell_type": "markdown",
   "metadata": {},
   "source": [
    "Your task is to analyze the log file. You should indentify the users and sessions. Then, compute the following: <br>\n",
    "3.1) the number of sessions (should be 1000 :) ), <br>\n",
    "3.2) the number of users, <br>\n",
    "3.3) the average number of sessions per one user <br>\n",
    "3.4) use the distribution plot to visualize the sessions' lengths (minutes);  <br>\n",
    "3.5) use the distribution plot to visualize the sessions' lengths (the number of requests) <br>\n",
    "3.6) use the distribution plot to visualize sessions' starting times (hours). <br>\n",
    "3.7) which web page is the most common entry point?; for each page plot the number of times it has been an entry page,  <br>\n",
    "3.8) which web page is the most common departure point?; for each page plot the number of times the user stopped a session while being on this page, <br>\n",
    "3.9) for each page plot the average time the user stayed on this page <br>\n",
    "3.10) print the fist 10 sessions (paths). <br>\n",
    "\n",
    "You may find the following classes helpful and data."
   ]
  },
  {
   "cell_type": "code",
   "execution_count": 222,
   "metadata": {
    "collapsed": true,
    "tags": []
   },
   "outputs": [
    {
     "output_type": "stream",
     "name": "stdout",
     "text": [
      "3.1) The number of sessions: 1000\n3.2) The number of users: 391\n3.3) The average number of sessions per one user: 2.56\nSESSION\n40429\n40429\nSession length: 13min\n156.15.13.173     11:13:49 -> AddProduct.html\n  AddProduct.html    11:13:49\n\nSESSION\n54516\n55285\nSession length: 26min\n156.15.13.173     15:08:36 -> Shop.html\n156.15.13.173     15:09:41 -> AddProduct.html\n156.15.13.173     15:19:37 -> Summary.html\n156.15.13.173     15:21:25 -> Payment.html\n  Shop.html    15:08:36\n  AddProduct.html    15:09:41\n  Summary.html    15:19:37\n  Payment.html    15:21:25\n\nSESSION\n71582\n71582\nSession length: 13min\n156.15.13.173     19:53:02 -> AddProduct.html\n  AddProduct.html    19:53:02\n\nSESSION\n40687\n41345\nSession length: 24min\n176.247.135.49     11:18:07 -> Shop.html\n176.247.135.49     11:19:05 -> AddProduct.html\n176.247.135.49     11:29:05 -> Summary.html\n  Shop.html    11:18:07\n  AddProduct.html    11:19:05\n  Summary.html    11:29:05\n\nSESSION\n66422\n66994\nSession length: 22min\n176.247.135.49     18:27:02 -> Shop.html\n176.247.135.49     18:28:22 -> AddProduct.html\n176.247.135.49     18:36:34 -> Summary.html\n  Shop.html    18:27:02\n  AddProduct.html    18:28:22\n  Summary.html    18:36:34\n\nSESSION\n42239\n42758\nSession length: 21min\n69.84.30.199     11:43:59 -> Shop.html\n69.84.30.199     11:45:16 -> AddProduct.html\n69.84.30.199     11:50:36 -> Summary.html\n69.84.30.199     11:52:38 -> Payment.html\n  Shop.html    11:43:59\n  AddProduct.html    11:45:16\n  Summary.html    11:50:36\n  Payment.html    11:52:38\n\nSESSION\n60675\n61258\nSession length: 22min\n69.84.30.199     16:51:15 -> Shop.html\n69.84.30.199     16:52:24 -> AddProduct.html\n69.84.30.199     16:58:57 -> Summary.html\n69.84.30.199     17:00:58 -> Payment.html\n  Shop.html    16:51:15\n  AddProduct.html    16:52:24\n  Summary.html    16:58:57\n  Payment.html    17:00:58\n\nSESSION\n64709\n64709\nSession length: 13min\n69.84.30.199     17:58:29 -> Shop.html\n  Shop.html    17:58:29\n\nSESSION\n42405\n42927\nSession length: 21min\n57.116.45.120     11:46:45 -> AddProduct.html\n57.116.45.120     11:53:25 -> Summary.html\n57.116.45.120     11:55:27 -> Payment.html\n  AddProduct.html    11:46:45\n  Summary.html    11:53:25\n  Payment.html    11:55:27\n\nSESSION\n45317\n45872\nSession length: 22min\n57.116.45.120     12:35:17 -> AddProduct.html\n57.116.45.120     12:42:42 -> Summary.html\n57.116.45.120     12:44:32 -> Payment.html\n  AddProduct.html    12:35:17\n  Summary.html    12:42:42\n  Payment.html    12:44:32\n\n"
     ]
    }
   ],
   "source": [
    "class Session:\n",
    "    def __init__(self,startTime,stopTime,requests,threshold):\n",
    "        self.startTime = startTime\n",
    "        self.stopTime = stopTime\n",
    "        self.requests = requests\n",
    "        self.sessionLen = round((stopTime - startTime + threshold)/60,0)\n",
    "        \n",
    "    def __repr__(self):\n",
    "        print(\"SESSION\")\n",
    "        print(self.startTime)\n",
    "        print(self.stopTime)\n",
    "        print(\"Session length: \" + str(int(self.sessionLen))+ \"min\")\n",
    "        STR = \"\"\n",
    "        for r in self.requests:\n",
    "            print(r)\n",
    "            STR += (\"  \" + r.page + \"    \" + str(datetime.timedelta(seconds=r.time)) + \"\\n\")\n",
    "        return STR\n",
    "\n",
    "class Computer:\n",
    "    def __init__(self):\n",
    "        self.ip = []\n",
    "        self.sessions = []\n",
    "    def __repr__(self):\n",
    "        return self.ip\n",
    "\n",
    "PAGES = [\"Shop.html\", \"AddProduct.html\", \"Summary.html\", \"Payment.html\",\"About.html\", \"Contact.html\"]\n",
    "\n",
    "LINKS = [[1, 4],\n",
    "         [2,4],\n",
    "         [3],\n",
    "         [],\n",
    "         [1,5],\n",
    "         []]\n",
    "\n",
    "users = {}\n",
    "sessions = []\n",
    "for req in reqs:\n",
    "    r = str(req).split()\n",
    "    \n",
    "    if r[0] not in users:\n",
    "        users[r[0]] = []\n",
    "    users[r[0]].append(req)\n",
    "\n",
    "\n",
    "threshold = 765\n",
    "for i in users.keys():\n",
    "    c = 1\n",
    "    startTime = -1\n",
    "    requests = []\n",
    "    for j in users[i][:-1]:\n",
    "        if startTime == -1:\n",
    "            startTime = j.time\n",
    "        requests.append(j)\n",
    "        \n",
    "        k = users[i][c]\n",
    "        if k.time - j.time > threshold:\n",
    "            sessions.append(Session(startTime,j.time,requests,threshold))\n",
    "            startTime = k.time\n",
    "            requests = []\n",
    "\n",
    "        c += 1\n",
    "    sessions.append(Session(startTime,j.time,requests,threshold))\n",
    "    \n",
    "print(\"3.1) The number of sessions: \" + str(len(sessions)))\n",
    "print(\"3.2) The number of users: \" + str(len(users.keys())))\n",
    "print(\"3.3) The average number of sessions per one user: \" + str(round(len(sessions)/len(users.keys()),2)))\n",
    "for l in range(10): \n",
    "    print(sessions[l]) \n",
    "# print(session_lengths)\n",
    "# print(req_count)\n",
    "\n",
    "# plot distribution\n",
    "# count, bins, ignored = plt.hist(data, 50, alpha=0.5, normed=True)\n",
    "# plt.plot()\n",
    "\n",
    "# x_axis = np.arange(len(pages))\n",
    "# plt.bar(x_axis, data, align='center', alpha=0.5)\n",
    "# plt.xticks(y_pos, pages, rotation=90)"
   ]
  }
 ],
 "metadata": {
  "kernelspec": {
   "display_name": "Python 3",
   "language": "python",
   "name": "python3"
  },
  "language_info": {
   "codemirror_mode": {
    "name": "ipython",
    "version": 3
   },
   "file_extension": ".py",
   "mimetype": "text/x-python",
   "name": "python",
   "nbconvert_exporter": "python",
   "pygments_lexer": "ipython3",
   "version": "3.8.5"
  }
 },
 "nbformat": 4,
 "nbformat_minor": 2
}